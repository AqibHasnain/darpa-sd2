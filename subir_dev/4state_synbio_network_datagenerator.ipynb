{
 "cells": [
  {
   "cell_type": "code",
   "execution_count": 19,
   "metadata": {},
   "outputs": [],
   "source": [
    "############################################################################\n",
    "# four state example\n",
    "# X1[t+ dell] = X1[t] + c1*X2[t]*x3[t] - c2*X1[t] - c3*X3[t]*X1[t]\n",
    "# X2[t+dell] = X2[t] + c3*X3[t]*x1[t] - c4*X2[t] - c1*X2[t]*X3[t]\n",
    "# X3[t+dell] = X3[t] - c1*X2[t]*x3[t] - c6*X3[t] - c3*X3[t]*X1[t]\n",
    "# X4[t+dell] = X4[t] - c7*X1[t]*x4[t] + c8*X4[t] - c9*X4[t]\n",
    "############################################################################\n",
    "\n",
    "import numpy as np\n",
    "import matplotlib.pyplot as plt\n",
    "import pickle\n",
    "\n",
    "############################################################################\n",
    "# calculation of time series data point\n",
    "\n",
    "#system parameters\n",
    "c1 = 0.19\n",
    "c2 = 0.90\n",
    "c3 = 0.69\n",
    "\n",
    "c4 = 0.27\n",
    "\n",
    "c6 = 0.25\n",
    "\n",
    "c7 = 0.08\n",
    "c8 = 0.02\n",
    "c9 = 0.08\n",
    "\n",
    "\n",
    "#number of states\n",
    "d = 4\n",
    "\n",
    "#time series\n",
    "t = np.linspace(0.0, 0.1, num = 50)\n",
    "\n",
    "# discrete time\n",
    "n = range(len(t))\n",
    "\n",
    "# initialize state vector\n",
    "X = np.zeros((d, len(t)))\n",
    "\n",
    "\n",
    "# initial condition\n",
    "X_0 = [np.ones((d,1))*1.5]\n",
    "\n",
    "for k in range(len(X_0)):\n",
    "    #initial condition\n",
    "    X[:,0] = X_0[k].squeeze()\n",
    "    #X[0][0] = X_0[k]\n",
    "    #X[1][0] = X_0[k]\n",
    "    #X[2][0] = X_0[k]\n",
    "    #X[3][0] = X_0[k]\n",
    "    for i in range(1, len(t)):\n",
    "            X[0][i] = X[0][i-1] + c1*X[1][i-1]*X[2][i-1] - c2*X[0][i-1] - c3*X[2][i-1]*X[0][i-1]\n",
    "            X[1][i] = X[1][i-1] + c3*X[2][i-1]*X[0][i-1] - c4*X[1][i-1] - c1*X[1][i-1]*X[2][i-1]\n",
    "            X[2][i] = X[2][i-1] - c1*X[1][i-1]*X[2][i-1] - c6*X[2][i-1] - c3*X[2][i-1]*X[0][i-1]\n",
    "            X[3][i] = X[3][i-1] - c7*X[0][i-1]*X[3][i-1] + c8*X[3][i-1] - c9*X[3][i-1]\n",
    "    \n",
    "    \n",
    "X = X.T;"
   ]
  },
  {
   "cell_type": "code",
   "execution_count": 21,
   "metadata": {},
   "outputs": [
    {
     "name": "stdout",
     "output_type": "stream",
     "text": [
      "(49, 4)\n"
     ]
    }
   ],
   "source": [
    "\n",
    "\n",
    "Xp = X[0:-1,:];\n",
    "Xf = X[1:,:];\n",
    "\n",
    "print Xf.shape"
   ]
  },
  {
   "cell_type": "code",
   "execution_count": 22,
   "metadata": {},
   "outputs": [
    {
     "name": "stdout",
     "output_type": "stream",
     "text": [
      "States:\n",
      "[[1.5]\n",
      " [1.5]\n",
      " [1.5]\n",
      " [1.5]]\n"
     ]
    },
    {
     "name": "stderr",
     "output_type": "stream",
     "text": [
      "/Library/Python/2.7/site-packages/matplotlib/axes/_axes.py:519: UserWarning: No labelled objects found. Use label='...' kwarg on individual plots.\n",
      "  warnings.warn(\"No labelled objects found. \"\n"
     ]
    },
    {
     "data": {
      "image/png": "[encoded data removed]",
      "text/plain": [
       "<matplotlib.figure.Figure at 0x102818850>"
      ]
     },
     "metadata": {},
     "output_type": "display_data"
    }
   ],
   "source": [
    "\n",
    "pickle.dump([Xp,Xf], open( \"../deepDMD/koopman_data/fourstate_mak.pickle\", \"wb\" ) )\n",
    "print('States:')\n",
    "print(X_0[k])\n",
    "#plt.plot(n,X[0],linestyle='dashed', marker='o',label='X1')\n",
    "#plt.plot(n,X[1],linestyle='dashed', marker='o',label='X2')\n",
    "#plt.plot(n,X[2],linestyle='dashed', marker='o',label='X3')\n",
    "#plt.plot(n,X[3],linestyle='dashed', marker='o',label='X4')\n",
    "plt.legend()\n",
    "plt.grid()\n",
    "plt.show()"
   ]
  },
  {
   "cell_type": "code",
   "execution_count": null,
   "metadata": {},
   "outputs": [],
   "source": []
  }
 ],
 "metadata": {
  "kernelspec": {
   "display_name": "Python 2",
   "language": "python",
   "name": "python2"
  },
  "language_info": {
   "codemirror_mode": {
    "name": "ipython",
    "version": 2
   },
   "file_extension": ".py",
   "mimetype": "text/x-python",
   "name": "python",
   "nbconvert_exporter": "python",
   "pygments_lexer": "ipython2",
   "version": "2.7.10"
  }
 },
 "nbformat": 4,
 "nbformat_minor": 2
}
