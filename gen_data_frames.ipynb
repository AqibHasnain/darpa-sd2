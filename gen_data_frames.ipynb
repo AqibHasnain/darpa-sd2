{
 "cells": [
  {
   "cell_type": "markdown",
   "metadata": {},
   "source": [
    "### Load Packages"
   ]
  },
  {
   "cell_type": "code",
   "execution_count": 1,
   "metadata": {
    "collapsed": true
   },
   "outputs": [],
   "source": [
    "from FlowCytometryTools import FCMeasurement\n",
    "import pandas as pd\n",
    "import os\n",
    "import numpy as np\n",
    "%matplotlib inline\n",
    "import matplotlib.pyplot as plt\n",
    "import matplotlib as mpl\n",
    "import seaborn as sns"
   ]
  },
  {
   "cell_type": "markdown",
   "metadata": {},
   "source": [
    "### Support Functions"
   ]
  },
  {
   "cell_type": "code",
   "execution_count": 2,
   "metadata": {
    "collapsed": true
   },
   "outputs": [],
   "source": [
    "def fcs2df(dfSource):\n",
    "    colNm = ['FSC-A','FSC-H','Width','SSC-A','SSC-H','SSC-W','FL1-A','FL1-H','FL1-W','Time']\n",
    "    cols = colNm[:]\n",
    "    dfNew = pd.DataFrame(columns=cols)\n",
    "    #counts = []\n",
    "    row_columns = ['Lab','ExtractionOD','BioReplicate','TechReplicate','beginTime','StrainID']\n",
    "    for index, row in dfSource.iterrows():\n",
    "        \n",
    "        home_jupyter_prefix = '/home/jupyter/';\n",
    "        if type(row['filePath'])==str and len(row['filePath'])>0:\n",
    "            \n",
    "            if not home_jupyter_prefix in row['filePath']:\n",
    "                fileNm = home_jupyter_prefix+row['filePath'];\n",
    "            else:\n",
    "                fileNm = row['filePath'];\n",
    "            \n",
    "        \n",
    "            sample = FCMeasurement(ID=fileNm,datafile=fileNm)\n",
    "            dfT = pd.DataFrame(data=sample.data)\n",
    "            dfT.columns = colNm\n",
    "            \n",
    "            for temp_column_name in row_columns:\n",
    "                dfT[temp_column_name] = row[temp_column_name];\n",
    "            \n",
    "            #counts.append(len(dfT))\n",
    "            dfNew = pd.concat([dfNew,dfT])\n",
    "            #dfNew[row_columns] = row[row_columns];\n",
    "           \n",
    "\n",
    "    #dfSource['numCounts'] = counts\n",
    "    return dfSource, dfNew"
   ]
  },
  {
   "cell_type": "markdown",
   "metadata": {},
   "source": [
    "### Define Filenames"
   ]
  },
  {
   "cell_type": "code",
   "execution_count": 3,
   "metadata": {
    "collapsed": true
   },
   "outputs": [],
   "source": [
    "Labs = ['Transcriptic','Ginkgo'];\n",
    "Metadata_Tags = ['Metadata'];\n",
    "Experiment_State = ['Pre','Final'];\n",
    "File_extension = '.csv'\n",
    "yg_folder_prefix = 'YeastGates_Metadata/';\n",
    "r30_folder_prefix = 'Rule30_Metadata/'\n",
    "\n",
    "yg_all_files = [];\n",
    "for lab in Labs:\n",
    "    for tag in Metadata_Tags:\n",
    "        for state in Experiment_State:\n",
    "            temp_file =  yg_folder_prefix + lab + '_'+ tag + '_' + state + File_extension; \n",
    "            yg_all_files.append(temp_file);\n",
    "            \n",
    "r30_all_files = [r30_folder_prefix+'Transcriptic_Metadata_Rule30' + File_extension];\n",
    "\n",
    "\n",
    "            \n"
   ]
  },
  {
   "cell_type": "markdown",
   "metadata": {},
   "source": [
    "### Construct list of YeastGate meta-dataframes"
   ]
  },
  {
   "cell_type": "code",
   "execution_count": 4,
   "metadata": {
    "collapsed": true
   },
   "outputs": [],
   "source": [
    "yg_all_dfs = [];\n",
    "for index in range(0,len(yg_all_files)):\n",
    "    file = yg_all_files[index]; \n",
    "    yg_all_dfs.append(pd.read_csv(file,sep=',',index_col=0));\n",
    "    "
   ]
  },
  {
   "cell_type": "markdown",
   "metadata": {},
   "source": [
    "### Construct list of Rule30 meta-dataframes"
   ]
  },
  {
   "cell_type": "code",
   "execution_count": 5,
   "metadata": {
    "collapsed": true
   },
   "outputs": [],
   "source": [
    "r30_all_dfs = [];\n",
    "for file in r30_all_files:\n",
    "    r30_all_dfs.append(pd.read_csv(file,sep=',',index_col=0))"
   ]
  },
  {
   "cell_type": "markdown",
   "metadata": {},
   "source": [
    "### Load Flow Cytometry Data (YeastGates)"
   ]
  },
  {
   "cell_type": "code",
   "execution_count": 6,
   "metadata": {
    "collapsed": false
   },
   "outputs": [
    {
     "ename": "IOError",
     "evalue": "[Errno 2] No such file or directory: '/home/jupyter/sd2e-community/ingest/Q0/sd2.transcriptic.upload/YeastGates/Run 01/03 Static Flow (r1argbedjhwq3) /Diluted/SD30_10032017(1)_SD30_10032017_YeastGatesStaticPlate_E1.fcs'",
     "output_type": "error",
     "traceback": [
      "\u001b[0;31m-----------------------------------------------------\u001b[0m",
      "\u001b[0;31mIOError\u001b[0m             Traceback (most recent call last)",
      "\u001b[0;32m<ipython-input-6-c5cc4a228765>\u001b[0m in \u001b[0;36m<module>\u001b[0;34m()\u001b[0m\n\u001b[1;32m      6\u001b[0m \u001b[0;34m\u001b[0m\u001b[0m\n\u001b[1;32m      7\u001b[0m \u001b[0;34m\u001b[0m\u001b[0m\n\u001b[0;32m----> 8\u001b[0;31m \u001b[0mtemp\u001b[0m\u001b[0;34m,\u001b[0m\u001b[0mTran_P_Flow_DF\u001b[0m \u001b[0;34m=\u001b[0m \u001b[0mfcs2df\u001b[0m\u001b[0;34m(\u001b[0m\u001b[0mTran_Meta_P\u001b[0m\u001b[0;34m)\u001b[0m\u001b[0;34m;\u001b[0m\u001b[0;34m\u001b[0m\u001b[0m\n\u001b[0m\u001b[1;32m      9\u001b[0m \u001b[0;32mprint\u001b[0m \u001b[0;34m\"Finished generating Transcriptic YeastGates Pre-DataFrame\"\u001b[0m\u001b[0;34m\u001b[0m\u001b[0m\n\u001b[1;32m     10\u001b[0m \u001b[0mtemp\u001b[0m\u001b[0;34m,\u001b[0m\u001b[0mTran_F_Flow_DF\u001b[0m \u001b[0;34m=\u001b[0m \u001b[0mfcs2df\u001b[0m\u001b[0;34m(\u001b[0m\u001b[0mTran_Meta_F\u001b[0m\u001b[0;34m)\u001b[0m\u001b[0;34m;\u001b[0m\u001b[0;34m\u001b[0m\u001b[0m\n",
      "\u001b[0;32m<ipython-input-2-e9816734d633>\u001b[0m in \u001b[0;36mfcs2df\u001b[0;34m(dfSource)\u001b[0m\n\u001b[1;32m     16\u001b[0m \u001b[0;34m\u001b[0m\u001b[0m\n\u001b[1;32m     17\u001b[0m \u001b[0;34m\u001b[0m\u001b[0m\n\u001b[0;32m---> 18\u001b[0;31m             \u001b[0msample\u001b[0m \u001b[0;34m=\u001b[0m \u001b[0mFCMeasurement\u001b[0m\u001b[0;34m(\u001b[0m\u001b[0mID\u001b[0m\u001b[0;34m=\u001b[0m\u001b[0mfileNm\u001b[0m\u001b[0;34m,\u001b[0m\u001b[0mdatafile\u001b[0m\u001b[0;34m=\u001b[0m\u001b[0mfileNm\u001b[0m\u001b[0;34m)\u001b[0m\u001b[0;34m\u001b[0m\u001b[0m\n\u001b[0m\u001b[1;32m     19\u001b[0m             \u001b[0mdfT\u001b[0m \u001b[0;34m=\u001b[0m \u001b[0mpd\u001b[0m\u001b[0;34m.\u001b[0m\u001b[0mDataFrame\u001b[0m\u001b[0;34m(\u001b[0m\u001b[0mdata\u001b[0m\u001b[0;34m=\u001b[0m\u001b[0msample\u001b[0m\u001b[0;34m.\u001b[0m\u001b[0mdata\u001b[0m\u001b[0;34m)\u001b[0m\u001b[0;34m\u001b[0m\u001b[0m\n\u001b[1;32m     20\u001b[0m             \u001b[0mdfT\u001b[0m\u001b[0;34m.\u001b[0m\u001b[0mcolumns\u001b[0m \u001b[0;34m=\u001b[0m \u001b[0mcolNm\u001b[0m\u001b[0;34m\u001b[0m\u001b[0m\n",
      "\u001b[0;32m/Library/Python/2.7/site-packages/FlowCytometryTools/core/bases.pyc\u001b[0m in \u001b[0;36m__init__\u001b[0;34m(self, ID, datafile, readdata, readdata_kwargs, metafile, readmeta, readmeta_kwargs)\u001b[0m\n\u001b[1;32m    175\u001b[0m         \u001b[0mself\u001b[0m\u001b[0;34m.\u001b[0m\u001b[0mreadmeta_kwargs\u001b[0m \u001b[0;34m=\u001b[0m \u001b[0mreadmeta_kwargs\u001b[0m\u001b[0;34m\u001b[0m\u001b[0m\n\u001b[1;32m    176\u001b[0m         \u001b[0;32mif\u001b[0m \u001b[0mreaddata\u001b[0m\u001b[0;34m:\u001b[0m \u001b[0mself\u001b[0m\u001b[0;34m.\u001b[0m\u001b[0mset_data\u001b[0m\u001b[0;34m(\u001b[0m\u001b[0;34m)\u001b[0m\u001b[0;34m\u001b[0m\u001b[0m\n\u001b[0;32m--> 177\u001b[0;31m         \u001b[0;32mif\u001b[0m \u001b[0mreadmeta\u001b[0m\u001b[0;34m:\u001b[0m \u001b[0mself\u001b[0m\u001b[0;34m.\u001b[0m\u001b[0mset_meta\u001b[0m\u001b[0;34m(\u001b[0m\u001b[0;34m)\u001b[0m\u001b[0;34m\u001b[0m\u001b[0m\n\u001b[0m\u001b[1;32m    178\u001b[0m         \u001b[0mself\u001b[0m\u001b[0;34m.\u001b[0m\u001b[0mposition\u001b[0m \u001b[0;34m=\u001b[0m \u001b[0;34m{\u001b[0m\u001b[0;34m}\u001b[0m\u001b[0;34m\u001b[0m\u001b[0m\n\u001b[1;32m    179\u001b[0m         \u001b[0mself\u001b[0m\u001b[0;34m.\u001b[0m\u001b[0mhistory\u001b[0m \u001b[0;34m=\u001b[0m \u001b[0;34m[\u001b[0m\u001b[0;34m]\u001b[0m\u001b[0;34m\u001b[0m\u001b[0m\n",
      "\u001b[0;32m/Library/Python/2.7/site-packages/FlowCytometryTools/core/bases.pyc\u001b[0m in \u001b[0;36mset_meta\u001b[0;34m(self, meta, **kwargs)\u001b[0m\n\u001b[1;32m    256\u001b[0m         '''\n\u001b[1;32m    257\u001b[0m         \u001b[0;32mif\u001b[0m \u001b[0mmeta\u001b[0m \u001b[0;32mis\u001b[0m \u001b[0mNone\u001b[0m\u001b[0;34m:\u001b[0m\u001b[0;34m\u001b[0m\u001b[0m\n\u001b[0;32m--> 258\u001b[0;31m             \u001b[0mmeta\u001b[0m \u001b[0;34m=\u001b[0m \u001b[0mself\u001b[0m\u001b[0;34m.\u001b[0m\u001b[0mget_meta\u001b[0m\u001b[0;34m(\u001b[0m\u001b[0;34m**\u001b[0m\u001b[0mkwargs\u001b[0m\u001b[0;34m)\u001b[0m\u001b[0;34m\u001b[0m\u001b[0m\n\u001b[0m\u001b[1;32m    259\u001b[0m         \u001b[0msetattr\u001b[0m\u001b[0;34m(\u001b[0m\u001b[0mself\u001b[0m\u001b[0;34m,\u001b[0m \u001b[0;34m'_meta'\u001b[0m\u001b[0;34m,\u001b[0m \u001b[0mmeta\u001b[0m\u001b[0;34m)\u001b[0m\u001b[0;34m\u001b[0m\u001b[0m\n\u001b[1;32m    260\u001b[0m \u001b[0;34m\u001b[0m\u001b[0m\n",
      "\u001b[0;32m/Library/Python/2.7/site-packages/FlowCytometryTools/core/bases.pyc\u001b[0m in \u001b[0;36mget_meta\u001b[0;34m(self, **kwargs)\u001b[0m\n\u001b[1;32m    296\u001b[0m         \u001b[0mIf\u001b[0m \u001b[0;32mnot\u001b[0m \u001b[0mmetadata\u001b[0m \u001b[0;32mis\u001b[0m \u001b[0;32mnot\u001b[0m \u001b[0mset\u001b[0m\u001b[0;34m,\u001b[0m \u001b[0mread\u001b[0m \u001b[0;32mfrom\u001b[0m \u001b[0;34m'self.metafile'\u001b[0m \u001b[0musing\u001b[0m \u001b[0;34m'self.read_meta'\u001b[0m\u001b[0;34m.\u001b[0m\u001b[0;34m\u001b[0m\u001b[0m\n\u001b[1;32m    297\u001b[0m         '''\n\u001b[0;32m--> 298\u001b[0;31m         \u001b[0;32mreturn\u001b[0m \u001b[0mself\u001b[0m\u001b[0;34m.\u001b[0m\u001b[0m_get_attr_from_file\u001b[0m\u001b[0;34m(\u001b[0m\u001b[0;34m'meta'\u001b[0m\u001b[0;34m,\u001b[0m \u001b[0;34m**\u001b[0m\u001b[0mkwargs\u001b[0m\u001b[0;34m)\u001b[0m\u001b[0;34m\u001b[0m\u001b[0m\n\u001b[0m\u001b[1;32m    299\u001b[0m \u001b[0;34m\u001b[0m\u001b[0m\n\u001b[1;32m    300\u001b[0m     \u001b[0mdata\u001b[0m \u001b[0;34m=\u001b[0m \u001b[0mproperty\u001b[0m\u001b[0;34m(\u001b[0m\u001b[0mget_data\u001b[0m\u001b[0;34m,\u001b[0m \u001b[0mset_data\u001b[0m\u001b[0;34m,\u001b[0m \u001b[0mdoc\u001b[0m\u001b[0;34m=\u001b[0m\u001b[0;34m'Data may be stored in memory or on disk'\u001b[0m\u001b[0;34m)\u001b[0m\u001b[0;34m\u001b[0m\u001b[0m\n",
      "\u001b[0;32m/Library/Python/2.7/site-packages/FlowCytometryTools/core/bases.pyc\u001b[0m in \u001b[0;36m_get_attr_from_file\u001b[0;34m(self, name, **kwargs)\u001b[0m\n\u001b[1;32m    277\u001b[0m         \u001b[0;32melse\u001b[0m\u001b[0;34m:\u001b[0m\u001b[0;34m\u001b[0m\u001b[0m\n\u001b[1;32m    278\u001b[0m             \u001b[0mparser_kwargs\u001b[0m \u001b[0;34m=\u001b[0m \u001b[0mgetattr\u001b[0m\u001b[0;34m(\u001b[0m\u001b[0mself\u001b[0m\u001b[0;34m,\u001b[0m \u001b[0;34m'read%s_kwargs'\u001b[0m \u001b[0;34m%\u001b[0m \u001b[0mname\u001b[0m\u001b[0;34m,\u001b[0m \u001b[0;34m{\u001b[0m\u001b[0;34m}\u001b[0m\u001b[0;34m)\u001b[0m\u001b[0;34m\u001b[0m\u001b[0m\n\u001b[0;32m--> 279\u001b[0;31m             \u001b[0mvalue\u001b[0m \u001b[0;34m=\u001b[0m \u001b[0mgetattr\u001b[0m\u001b[0;34m(\u001b[0m\u001b[0mself\u001b[0m\u001b[0;34m,\u001b[0m \u001b[0;34m'read_%s'\u001b[0m \u001b[0;34m%\u001b[0m \u001b[0mname\u001b[0m\u001b[0;34m)\u001b[0m\u001b[0;34m(\u001b[0m\u001b[0;34m**\u001b[0m\u001b[0mparser_kwargs\u001b[0m\u001b[0;34m)\u001b[0m\u001b[0;34m\u001b[0m\u001b[0m\n\u001b[0m\u001b[1;32m    280\u001b[0m         \u001b[0;32mreturn\u001b[0m \u001b[0mvalue\u001b[0m\u001b[0;34m\u001b[0m\u001b[0m\n\u001b[1;32m    281\u001b[0m \u001b[0;34m\u001b[0m\u001b[0m\n",
      "\u001b[0;32m/Library/Python/2.7/site-packages/FlowCytometryTools/core/containers.pyc\u001b[0m in \u001b[0;36mread_meta\u001b[0;34m(self, **kwargs)\u001b[0m\n\u001b[1;32m     75\u001b[0m         meta = parse_fcs(self.datafile,\n\u001b[1;32m     76\u001b[0m                          \u001b[0mreformat_meta\u001b[0m\u001b[0;34m=\u001b[0m\u001b[0mTrue\u001b[0m\u001b[0;34m,\u001b[0m\u001b[0;34m\u001b[0m\u001b[0m\n\u001b[0;32m---> 77\u001b[0;31m                          meta_data_only=True, **kwargs)\n\u001b[0m\u001b[1;32m     78\u001b[0m         \u001b[0;32mreturn\u001b[0m \u001b[0mmeta\u001b[0m\u001b[0;34m\u001b[0m\u001b[0m\n\u001b[1;32m     79\u001b[0m \u001b[0;34m\u001b[0m\u001b[0m\n",
      "\u001b[0;32m/Library/Python/2.7/site-packages/fcsparser/api.pyc\u001b[0m in \u001b[0;36mparse\u001b[0;34m(path, meta_data_only, output_format, compensate, channel_naming, reformat_meta)\u001b[0m\n\u001b[1;32m    508\u001b[0m     \u001b[0mread_data\u001b[0m \u001b[0;34m=\u001b[0m \u001b[0;32mnot\u001b[0m \u001b[0mmeta_data_only\u001b[0m\u001b[0;34m\u001b[0m\u001b[0m\n\u001b[1;32m    509\u001b[0m \u001b[0;34m\u001b[0m\u001b[0m\n\u001b[0;32m--> 510\u001b[0;31m     \u001b[0mparsed_fcs\u001b[0m \u001b[0;34m=\u001b[0m \u001b[0mFCSParser\u001b[0m\u001b[0;34m(\u001b[0m\u001b[0mpath\u001b[0m\u001b[0;34m,\u001b[0m \u001b[0mread_data\u001b[0m\u001b[0;34m=\u001b[0m\u001b[0mread_data\u001b[0m\u001b[0;34m,\u001b[0m \u001b[0mchannel_naming\u001b[0m\u001b[0;34m=\u001b[0m\u001b[0mchannel_naming\u001b[0m\u001b[0;34m)\u001b[0m\u001b[0;34m\u001b[0m\u001b[0m\n\u001b[0m\u001b[1;32m    511\u001b[0m \u001b[0;34m\u001b[0m\u001b[0m\n\u001b[1;32m    512\u001b[0m     \u001b[0;32mif\u001b[0m \u001b[0mreformat_meta\u001b[0m\u001b[0;34m:\u001b[0m\u001b[0;34m\u001b[0m\u001b[0m\n",
      "\u001b[0;32m/Library/Python/2.7/site-packages/fcsparser/api.pyc\u001b[0m in \u001b[0;36m__init__\u001b[0;34m(self, path, read_data, channel_naming)\u001b[0m\n\u001b[1;32m    107\u001b[0m \u001b[0;34m\u001b[0m\u001b[0m\n\u001b[1;32m    108\u001b[0m         \u001b[0;32mif\u001b[0m \u001b[0mpath\u001b[0m\u001b[0;34m:\u001b[0m\u001b[0;34m\u001b[0m\u001b[0m\n\u001b[0;32m--> 109\u001b[0;31m             \u001b[0;32mwith\u001b[0m \u001b[0mopen\u001b[0m\u001b[0;34m(\u001b[0m\u001b[0mpath\u001b[0m\u001b[0;34m,\u001b[0m \u001b[0;34m'rb'\u001b[0m\u001b[0;34m)\u001b[0m \u001b[0;32mas\u001b[0m \u001b[0mf\u001b[0m\u001b[0;34m:\u001b[0m\u001b[0;34m\u001b[0m\u001b[0m\n\u001b[0m\u001b[1;32m    110\u001b[0m                 \u001b[0mself\u001b[0m\u001b[0;34m.\u001b[0m\u001b[0mload_file\u001b[0m\u001b[0;34m(\u001b[0m\u001b[0mf\u001b[0m\u001b[0;34m,\u001b[0m \u001b[0mread_data\u001b[0m\u001b[0;34m)\u001b[0m\u001b[0;34m\u001b[0m\u001b[0m\n\u001b[1;32m    111\u001b[0m \u001b[0;34m\u001b[0m\u001b[0m\n",
      "\u001b[0;31mIOError\u001b[0m: [Errno 2] No such file or directory: '/home/jupyter/sd2e-community/ingest/Q0/sd2.transcriptic.upload/YeastGates/Run 01/03 Static Flow (r1argbedjhwq3) /Diluted/SD30_10032017(1)_SD30_10032017_YeastGatesStaticPlate_E1.fcs'"
     ]
    }
   ],
   "source": [
    "#print yg_all_files\n",
    "Tran_Meta_P = yg_all_dfs[0];\n",
    "Tran_Meta_F = yg_all_dfs[1];\n",
    "Gink_Meta_P = yg_all_dfs[2];\n",
    "Gink_Meta_F = yg_all_dfs[3];\n",
    "\n",
    "\n",
    "temp,Tran_P_Flow_DF = fcs2df(Tran_Meta_P);\n",
    "print \"Finished generating Transcriptic YeastGates Pre-DataFrame\"\n",
    "temp,Tran_F_Flow_DF = fcs2df(Tran_Meta_F);\n",
    "print \"Finished generating Transcriptic YeastGates Final-DataFrame\"\n",
    "temp,Gink_P_Flow_DF = fcs2df(Gink_Meta_P);\n",
    "print \"Finished generating Ginkgo YeastGates Pre-DataFrame\"\n",
    "temp,Gink_F_Flow_DF = fcs2df(Gink_Meta_F);\n",
    "print \"Finished generating Ginkgo YeastGates Final-DataFrame\""
   ]
  },
  {
   "cell_type": "code",
   "execution_count": null,
   "metadata": {
    "collapsed": true
   },
   "outputs": [],
   "source": [
    "### Check extraction ODs are processed well \n",
    "\n",
    "#print list(set(list(Gink_F_Flow_DF.ExtractionOD)))\n",
    "#print list(set(list(Gink_P_Flow_DF.ExtractionOD)))\n",
    "#print list(set(list(Tran_P_Flow_DF.ExtractionOD)))\n",
    "#print list(set(list(Tran_F_Flow_DF.ExtractionOD)))\n",
    "#print temp.ExtractionOD\n",
    "#print Gink_F_Flow_DF.head()"
   ]
  },
  {
   "cell_type": "markdown",
   "metadata": {},
   "source": [
    "### Write DataFrames to Output Files"
   ]
  },
  {
   "cell_type": "code",
   "execution_count": null,
   "metadata": {
    "collapsed": true
   },
   "outputs": [],
   "source": [
    "outputDir = 'processedFlowDataFrames/'\n",
    "\n",
    "Gink_F_Flow_DF.to_csv(outputDir+'Gink_F.csv');\n",
    "Gink_P_Flow_DF.to_csv(outputDir+'Gink_P.csv');\n",
    "Tran_F_Flow_DF.to_csv(outputDir+'Tran_F.csv');\n",
    "Tran_P_Flow_DF.to_csv(outputDir+'Tran_P.csv');"
   ]
  },
  {
   "cell_type": "code",
   "execution_count": null,
   "metadata": {
    "collapsed": true
   },
   "outputs": [],
   "source": []
  }
 ],
 "metadata": {
  "kernelspec": {
   "display_name": "Python 2",
   "language": "python",
   "name": "python2"
  },
  "language_info": {
   "codemirror_mode": {
    "name": "ipython",
    "version": 2
   },
   "file_extension": ".py",
   "mimetype": "text/x-python",
   "name": "python",
   "nbconvert_exporter": "python",
   "pygments_lexer": "ipython2",
   "version": "2.7.10"
  }
 },
 "nbformat": 4,
 "nbformat_minor": 2
}
