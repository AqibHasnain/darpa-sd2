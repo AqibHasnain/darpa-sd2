{
 "cells": [
  {
   "cell_type": "code",
   "execution_count": 3,
   "metadata": {},
   "outputs": [],
   "source": [
    "%matplotlib inline \n",
    "import matplotlib \n",
    "import matplotlib.pyplot as plt "
   ]
  },
  {
   "cell_type": "code",
   "execution_count": 4,
   "metadata": {},
   "outputs": [],
   "source": [
    "file_obj = open('081518_v.nat_IPTG titration assay_plasmids 7,8,9_WG.csv','r');\n",
    "all_lines = file_obj.readlines();"
   ]
  },
  {
   "cell_type": "code",
   "execution_count": 32,
   "metadata": {},
   "outputs": [
    {
     "data": {
      "text/plain": [
       "'0:00:27,30.0,187,86,81,83,91,84,165,84,89,87,88,94,165,84,91,86,90,81,168,94,81,85,81,91,168,95,93,73,94,85,181,84,89,91,84,99,154,81,92,83,85,86,162,92,103,82,85,92,165,92,92,87,89,91,167,88,93,93,90,106,175,92,86,90,86,92,167,93,87,95,81,94,179,31,26,30,20,27,32,41,23,26,22,30,176,29,22,28,26,24,25,30,27,26,27,38\\r\\n'"
      ]
     },
     "execution_count": 32,
     "metadata": {},
     "output_type": "execute_result"
    }
   ],
   "source": [
    "OD_curves = all_lines[4:523]\n",
    "\n",
    "all_lines[528]"
   ]
  },
  {
   "cell_type": "code",
   "execution_count": 18,
   "metadata": {},
   "outputs": [
    {
     "data": {
      "text/plain": [
       "'0:02:48,30.0,0.133,0.120,0.124,0.126,0.125,0.123,0.149,0.122,0.125,0.119,0.124,0.137,0.135,0.120,0.123,0.123,0.123,0.123,0.148,0.123,0.123,0.131,0.125,0.103,0.262,0.172,0.155,0.421,0.230,0.170,0.171,0.177,0.207,0.169,0.190,0.187,0.230,0.142,0.130,0.129,0.128,0.162,0.209,0.145,0.144,0.130,0.134,0.137,0.140,0.118,0.118,0.127,0.121,0.123,0.146,0.123,0.122,0.122,0.120,0.128,0.140,0.115,0.118,0.121,0.130,0.126,0.147,0.152,0.130,0.125,0.119,0.126,0.121,0.089,0.086,0.088,0.084,0.086,0.088,0.091,0.084,0.086,0.084,0.091,0.123,0.087,0.086,0.087,0.087,0.087,0.087,0.086,0.085,0.088,0.086,0.089\\r\\n'"
      ]
     },
     "execution_count": 18,
     "metadata": {},
     "output_type": "execute_result"
    }
   ],
   "source": [
    "all_lines[5]"
   ]
  },
  {
   "cell_type": "code",
   "execution_count": null,
   "metadata": {},
   "outputs": [],
   "source": []
  }
 ],
 "metadata": {
  "kernelspec": {
   "display_name": "Python 2",
   "language": "python",
   "name": "python2"
  },
  "language_info": {
   "codemirror_mode": {
    "name": "ipython",
    "version": 2
   },
   "file_extension": ".py",
   "mimetype": "text/x-python",
   "name": "python",
   "nbconvert_exporter": "python",
   "pygments_lexer": "ipython2",
   "version": "2.7.10"
  }
 },
 "nbformat": 4,
 "nbformat_minor": 1
}
