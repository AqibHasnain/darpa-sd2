{
 "cells": [
  {
   "cell_type": "code",
   "execution_count": 287,
   "metadata": {},
   "outputs": [],
   "source": [
    "import numpy as np;\n",
    "from scipy.integrate import odeint\n",
    "import matplotlib.pyplot as plt\n",
    "import cvxopt;\n",
    "from cvxpy import Minimize, Problem, Variable,norm1,norm2,installed_solvers,lambda_max;\n",
    "from cvxpy import norm as cvxpynorm;\n",
    "import cvxpy;\n",
    "d1 = 1.0; \n",
    "d2 = 1.0; \n",
    "def model(x,t):\n",
    "    dxdt = [2.0*np.power(1.0+x[1]**1.0, -1.0) - d1,#*x[0],\n",
    "            3.0*np.power(1.0+x[0]**1.0, -1.0) - d2] #*x[1]]\n",
    "    return dxdt\n",
    "\n",
    "\n",
    "def uf_singlehill(xi,kMi): #2 of these \n",
    "    return 1.0/(kMi+xi);\n",
    "\n",
    "def uf_doublehill(xi,kMi,xj,kMj): #1 of these \n",
    "    return 1.0/(kMi+xi)*1.0/(kMj+xj);\n",
    "\n",
    "\n",
    "def uf_doubleacthill(xi,kMi,xj,kMj): # 1 of these \n",
    "    return xi/(kMi+xi)*xj/(kMj+xj);\n",
    "\n",
    "\n",
    "def uf_mixedhill(xi,kMi,xj): #2 of these \n",
    "    return 1.0/(kMi+xi)*xj;\n",
    "\n",
    "def uf_bilinearhill(xi,kMi,xj):\n",
    "    return np.multiply(xi,xj)/(kMi+xi); # 2 of these \n",
    "\n",
    "def uf_singleacthill(xi,kMi): # 2 of these \n",
    "    return xi/(kMi+xi);\n",
    "\n",
    "\n",
    "\n",
    "def calc_Koopman(Yf,Yp,flag=1):\n",
    "    solver_instance = cvxpy.CVXOPT;\n",
    "    #solver_instance = cvxpy.ECOS;\n",
    "    if flag==1: # moore penrose inverse, plain ol' least squares Koopman\n",
    "        #Yp_inv = np.dot(np.transpose(Yp_final), np.linalg.inv( np.dot(Yp_final,np.transpose(Yp_final)) )   );\n",
    "        Yp_inv = np.linalg.pinv(Yp);\n",
    "        K = np.dot(Yf,Yp_inv);\n",
    "        \n",
    "\n",
    "    if flag ==2: # cvx optimization approach - L2 + L1 lasso \n",
    "        norm1_term = 0.0;\n",
    "        all_col_handles = [None]*Yf.shape[0]\n",
    "        for i in range(0,Yf.shape[0]):            \n",
    "            all_col_handles[i] = Variable(Yf.shape[0],1);\n",
    "            norm1_term = norm1_term + norm2(all_col_handles[i]);\n",
    "\n",
    "        operator = all_col_handles[0];\n",
    "        for i in range(1,Yf.shape[0]):\n",
    "            operator = cvxpy.hstack(operator,all_col_handles[i]);\n",
    "\n",
    "        print(\"[INFO]: CVXPY Koopman operator variable: \" +repr(operator));\n",
    "        print(\"[INFO]: Yf.shape in calc_Koopman: \" + repr(Yf.shape));\n",
    "        norm2_fit_term = norm2(norm2(Yf-operator*Yp,axis=0));\n",
    "        objective = Minimize(norm2_fit_term + norm1_term)\n",
    "        constraints = [];\n",
    "        prob = Problem(objective,constraints);\n",
    "        result = prob.solve(verbose=True,solver=solver_instance);\n",
    "        print(\"[INFO]: Finished executing cvx solver, printing CVXPY problem status\")\n",
    "        print(prob.status);\n",
    "        K = operator.value;\n",
    "\n",
    "    if flag ==3:\n",
    "        operator = Variable(Yf.shape[0],Yf.shape[0])\n",
    "        objective = Minimize(cvxpynorm(operator,2))\n",
    "        constraints = [cvxpynorm(Yf-operator*Yp,'fro')/cvxpynorm(Yf,'fro')<0.01 ]\n",
    "        prob = Problem(objective, constraints)\n",
    "        result = prob.solve(verbose=True)#(solver=solver_instance);\n",
    "        print(prob.status);\n",
    "        K = operator.value;\n",
    "\n",
    "    return K;\n"
   ]
  },
  {
   "cell_type": "code",
   "execution_count": 288,
   "metadata": {},
   "outputs": [
    {
     "data": {
      "image/png": "[encoded data removed]",
      "text/plain": [
       "<Figure size 720x720 with 1 Axes>"
      ]
     },
     "metadata": {
      "needs_background": "light"
     },
     "output_type": "display_data"
    }
   ],
   "source": [
    "t = np.linspace(0,15,100)\n",
    "kM=1.0;\n",
    "# X and Y range\n",
    "Xrange = np.linspace(0,2,20)\n",
    "Yrange = np.linspace(0,2,20)\n",
    "LiftedZ = None;\n",
    "All_Z = None;\n",
    "All_Zf = None;\n",
    "All_Zp = None; \n",
    "plt.figure(figsize=(10,10))\n",
    "\n",
    "for k1 in range(0,len(Xrange)):\n",
    "    for k2 in range(0,len(Yrange)):\n",
    "        z0 = [Xrange[k1],Yrange[k2]];\n",
    "        #print(z0)\n",
    "        \n",
    "        Z = odeint(model,z0,t)\n",
    "        Z  = Z.T;\n",
    "        plt.plot(Z[0,:],'r',alpha=0.25);\n",
    "        plt.plot(Z[1,:],'g',alpha=0.25);\n",
    "        plt.legend(['LacI-RFP','TetR-GFP'])\n",
    "        LiftedZ = Z;\n",
    "        for state_ind in range(0,Z.shape[0]):\n",
    "            UFSH = uf_singlehill(Z[state_ind,:],kM);\n",
    "            UFSAH = uf_singleacthill(Z[state_ind,:],kM);\n",
    "            LiftedZ = np.vstack( (LiftedZ,UFSH,UFSAH));\n",
    "            for state2_ind in range(0,Z.shape[0]):\n",
    "                if state2_ind > state_ind:\n",
    "                    UFDH = uf_doublehill(Z[state_ind,:],kM,Z[state2_ind,:],kM);\n",
    "                    UFDAH = uf_doubleacthill(Z[state_ind,:],kM,Z[state2_ind,:],kM);\n",
    "                    LiftedZ = np.vstack( (LiftedZ,UFDH,UFDAH));\n",
    "                if not(state2_ind == state_ind):\n",
    "                    UFMH = uf_mixedhill(Z[state_ind,:],kM,Z[state2_ind,:]);\n",
    "                    UFBH = uf_bilinearhill(Z[state_ind,:],kM,Z[state2_ind,:]);\n",
    "                    LiftedZ = np.vstack( (LiftedZ,UFMH,UFBH));\n",
    "                \n",
    "        #print(LiftedZ.shape)\n",
    "        \n",
    "        Zf = LiftedZ[:,1:];\n",
    "        \n",
    "        \n",
    "        Zp = LiftedZ[:,0:-1];\n",
    "        \n",
    "        if type(All_Zf) == np.ndarray:\n",
    "            All_Zf = np.hstack((All_Zf,Zf));\n",
    "            All_Zp = np.hstack((All_Zp,Zp));\n",
    "            \n",
    "        else:\n",
    "            All_Zf = Zf;\n",
    "            All_Zp = Zp; \n",
    "\n",
    "\n",
    "\n",
    "\n",
    "\n",
    "            \n",
    "\n",
    "Yf = All_Zf;\n",
    "Yp = All_Zp;\n",
    "\n",
    "\n"
   ]
  },
  {
   "cell_type": "code",
   "execution_count": null,
   "metadata": {},
   "outputs": [],
   "source": [
    "import seaborn as sns\n",
    "\n",
    "K = calc_Koopman(Yf,Yp,flag=1)\n",
    "\n",
    "sns.heatmap(K)"
   ]
  },
  {
   "cell_type": "code",
   "execution_count": null,
   "metadata": {},
   "outputs": [],
   "source": [
    "np.linalg.norm(Yf-np.dot(K,Yp),2)\n",
    "plt.plot(Yf-np.dot(K,Yp))"
   ]
  },
  {
   "cell_type": "code",
   "execution_count": null,
   "metadata": {},
   "outputs": [],
   "source": [
    "w,V = np.linalg.eig(K)\n",
    "plt.bar(np.arange(0,len(w),1),w)"
   ]
  },
  {
   "cell_type": "code",
   "execution_count": null,
   "metadata": {},
   "outputs": [],
   "source": [
    "uf_singleacthill(Z[1,:],10.0)\n",
    "uf_bilinearhill(Z[0,:],10.0,Z[1,:])"
   ]
  },
  {
   "cell_type": "code",
   "execution_count": null,
   "metadata": {},
   "outputs": [],
   "source": [
    "Yp"
   ]
  },
  {
   "cell_type": "code",
   "execution_count": 263,
   "metadata": {},
   "outputs": [
    {
     "data": {
      "text/plain": [
       "[<matplotlib.lines.Line2D at 0x13d269320>]"
      ]
     },
     "execution_count": 263,
     "metadata": {},
     "output_type": "execute_result"
    },
    {
     "data": {
      "image/png": "[encoded data removed]",
      "text/plain": [
       "<Figure size 432x288 with 1 Axes>"
      ]
     },
     "metadata": {
      "needs_background": "light"
     },
     "output_type": "display_data"
    }
   ],
   "source": [
    "x = np.arange(0,20,0.1);\n",
    "plt.plot((1+x)/(1.0+x**2))\n",
    "plt.plot(1/(1.0+x))"
   ]
  },
  {
   "cell_type": "code",
   "execution_count": 267,
   "metadata": {},
   "outputs": [
    {
     "data": {
      "text/plain": [
       "[<matplotlib.lines.Line2D at 0x13e111908>]"
      ]
     },
     "execution_count": 267,
     "metadata": {},
     "output_type": "execute_result"
    },
    {
     "data": {
      "image/png": "[encoded data removed]",
      "text/plain": [
       "<Figure size 432x288 with 1 Axes>"
      ]
     },
     "metadata": {
      "needs_background": "light"
     },
     "output_type": "display_data"
    }
   ],
   "source": [
    "plt.plot(.5/(0.5+x))\n",
    "plt.plot(.5/(0.5+x)**2)"
   ]
  },
  {
   "cell_type": "code",
   "execution_count": null,
   "metadata": {},
   "outputs": [],
   "source": []
  },
  {
   "cell_type": "code",
   "execution_count": null,
   "metadata": {},
   "outputs": [],
   "source": []
  }
 ],
 "metadata": {
  "kernelspec": {
   "display_name": "Python 3",
   "language": "python",
   "name": "python3"
  },
  "language_info": {
   "codemirror_mode": {
    "name": "ipython",
    "version": 3
   },
   "file_extension": ".py",
   "mimetype": "text/x-python",
   "name": "python",
   "nbconvert_exporter": "python",
   "pygments_lexer": "ipython3",
   "version": "3.7.3"
  }
 },
 "nbformat": 4,
 "nbformat_minor": 2
}
