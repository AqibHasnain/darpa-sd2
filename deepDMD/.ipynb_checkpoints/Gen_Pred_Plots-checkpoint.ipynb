{
 "cells": [
  {
   "cell_type": "code",
   "execution_count": 2,
   "metadata": {},
   "outputs": [],
   "source": [
    "import pickle;\n",
    "import numpy as np;\n",
    "from numpy.linalg import pinv;\n",
    "from numpy.polynomial.legendre import legvander;\n",
    "import tensorflow as tf\n",
    "\n",
    "import control"
   ]
  },
  {
   "cell_type": "code",
   "execution_count": 17,
   "metadata": {},
   "outputs": [],
   "source": [
    "import matplotlib.pyplot as plt;\n",
    "matplotlib.rcParams.update({'font.size':22}) # default font size on (legible) figures\n",
    "colors =[[ 0.68627453,  0.12156863,  0.16470589],\n",
    "       [ 0.96862745,  0.84705883,  0.40000001],\n",
    "       [ 0.83137256,  0.53333336,  0.6156863 ],\n",
    "       [ 0.03529412,  0.01960784,  0.14509805],\n",
    "       [ 0.90980393,  0.59607846,  0.78039217],\n",
    "       [ 0.69803923,  0.87843138,  0.72941178],\n",
    "       [ 0.20784314,  0.81568629,  0.89411765]];\n",
    "\n",
    "colors = np.asarray(colors); # defines a color palette \n"
   ]
  },
  {
   "cell_type": "code",
   "execution_count": 18,
   "metadata": {},
   "outputs": [],
   "source": [
    "def load_pickle_data(file_path,has_control):\n",
    "        '''load pickle data file for deep Koopman dynamic mode decomposition. \n",
    "        Args: \n",
    "           file_path: \n",
    "\n",
    "        '''     \n",
    "        file_obj = file(file_path,'rb');\n",
    "        output_vec = pickle.load(file_obj);\n",
    "\n",
    "        Yp = output_vec[0]; # list of baseline observables, len(Yp) = (n_samps-1) \n",
    "        Yf = output_vec[1]; # list of baseline observables, len(Yf) = (n_samps-1) \n",
    "\n",
    "        print(\"DEBUG:\") + repr(len(output_vec));\n",
    "        if has_control:\n",
    "          u_control_all_training = output_vec[2];\n",
    "          #print u_control_all_training[0:10]\n",
    "        else:\n",
    "          u_control_all_training = None;\n",
    "          \n",
    "        if len(Yp)<2:\n",
    "            print(\"Warning: the time-series data provided has no more than 2 points.\")\n",
    "    \n",
    "        Y_whole = [None]*(len(Yp)+1);\n",
    "        \n",
    "        for i in range(0,len(Yp)+1):\n",
    "            if i == len(Yp):\n",
    "                Y_whole[i] = Yf[i-1];\n",
    "            else:\n",
    "                Y_whole[i] = Yp[i];\n",
    "\n",
    "        Y_whole = np.asarray(Y_whole);\n",
    "        \n",
    "        return np.asarray(Yp),np.asarray(Yf),Y_whole,u_control_all_training;"
   ]
  },
  {
   "cell_type": "code",
   "execution_count": 19,
   "metadata": {},
   "outputs": [],
   "source": [
    "with_control = 1;\n",
    "\n",
    "sess = tf.InteractiveSession();\n",
    "\n",
    "saver = tf.train.import_meta_graph('glycol.pickle.ckpt.meta')\n",
    "saver.restore(sess,tf.train.latest_checkpoint('./'));\n",
    "\n",
    "psiyp = tf.get_collection('psiyp')[0];\n",
    "psiyf = tf.get_collection('psiyf')[0];\n",
    "forward_prediction = tf.get_collection('forward_prediction')[0];\n",
    "yp_feed = tf.get_collection('yp_feed')[0];\n",
    "yf_feed = tf.get_collection('yf_feed')[0];\n",
    "\n",
    "#psiu = tf.get_collection('psiu')[0];\n",
    "#u_control = tf.get_collection('u_control')[0];\n",
    "\n",
    "Kx = tf.get_collection('Kx')[0];\n",
    "#Ku = tf.get_collection('Ku')[0];\n",
    "\n",
    "Kx_num = sess.run(Kx);\n",
    "#Ku_num = sess.run(Ku);\n",
    "A = np.transpose(Kx_num); # Kx_num and Ku_num were defined using row multi. \n",
    "\n"
   ]
  },
  {
   "cell_type": "code",
   "execution_count": 20,
   "metadata": {},
   "outputs": [
    {
     "name": "stdout",
     "output_type": "stream",
     "text": [
      "DEBUG:2\n"
     ]
    }
   ],
   "source": [
    "data_directory = 'koopman_data/'\n",
    "data_suffix = 'glycol.pickle';\n",
    "data_file = data_directory + data_suffix;\n",
    "Yp,Yf,Y_whole,temp_var = load_pickle_data(data_file,0);\n",
    "with_control = 0;\n",
    "Y_p_old = Yp\n",
    "\n",
    "num_trains = 430#len(Yp)*5/10;\n",
    "train_indices = np.arange(0,num_trains,1);#np.random.randint(0,len(Yp),num_trains)\n",
    "test_indices = np.arange(num_trains,len(Yp),1);#np.random.randint(0,len(Yp),len(Yp)-num_trains);\n",
    "\n",
    "num_bas_obs = len(Yp[0]);"
   ]
  },
  {
   "cell_type": "code",
   "execution_count": null,
   "metadata": {},
   "outputs": [
    {
     "name": "stdout",
     "output_type": "stream",
     "text": [
      "[RESULT] n-step Prediction error: 0.487214\n"
     ]
    }
   ],
   "source": [
    "# # # - - - n-step Prediction Error Analysis - - - # # # \n",
    "\n",
    "  \n",
    "n_points_pred = len(Y_p_old) - test_indices[0]-1;\n",
    "\n",
    "init_index = test_indices[0];\n",
    "Yf_final_test_stack_nn = np.asarray(Y_p_old).T[:,init_index:(init_index+1)+n_points_pred]\n",
    "Ycurr = np.asarray(Y_p_old).T[:,init_index]\n",
    "Ycurr = np.transpose(Ycurr);\n",
    "if with_control:\n",
    "  Uf_final_test_stack_nn = np.asarray(u_control_all_training).T[:,init_index:(init_index+1)+n_points_pred]\n",
    "\n",
    "#Reshape for tensorflow, which operates using row multiplication. \n",
    "Ycurr = Ycurr.reshape(1,num_bas_obs);\n",
    "psiyp_Ycurr = psiyp.eval(feed_dict={yp_feed:Ycurr});\n",
    "psiyf_Ycurr = psiyf.eval(feed_dict={yf_feed:Ycurr});\n",
    "\n",
    "\n",
    "## Define a growing list of vector valued observables that is the forward prediction of the Yf snapshot matrix, initiated from an initial condition in Yp_final_test.   \n",
    "Yf_final_test_ep_nn = [];\n",
    "Yf_final_test_ep_nn.append(psiyp_Ycurr.tolist()[0][0:num_bas_obs]); # append the initial seed state value.\n",
    "\n",
    "for i in range(0,n_points_pred):\n",
    "  if with_control:\n",
    "    if len(U_test[i,:])==1:\n",
    "      U_temp_mat = np.reshape(Uf_final_test_stack_nn[i,:],(1,1));\n",
    "      psiyp_Ycurr = sess.run(forward_prediction_control, feed_dict={yp_feed:psiyp_Ycurr[:,0:num_bas_obs],u_control:U_temp_mat});#\n",
    "    else:\n",
    "      U_temp_mat = np.reshape(Uf_final_test_stack[i,:],(1,n_inputs_control));\n",
    "      psiyp_Ycurr = sess.run(forward_prediction_control, feed_dict={yp_feed:psiyp_Ycurr[:,0:num_bas_obs],u_control:U_temp_mat});# \n",
    "  else:\n",
    "    psiyp_Ycurr = sess.run(forward_prediction,feed_dict={yp_feed:psiyp_Ycurr[:,0:num_bas_obs]});\n",
    "\n",
    "  Yout = psiyp_Ycurr.tolist()[0][0:num_bas_obs];\n",
    "  Yf_final_test_ep_nn.append(Yout);\n",
    "\n",
    "\n",
    "Yf_final_test_ep_nn = np.asarray(Yf_final_test_ep_nn);\n",
    "Yf_final_test_ep_nn = np.transpose(Yf_final_test_ep_nn);\n",
    "\n",
    "prediction_error = np.linalg.norm(Yf_final_test_stack_nn-Yf_final_test_ep_nn,ord='fro')/np.linalg.norm(Yf_final_test_stack_nn,ord='fro');\n",
    "print('%s%f' % ('[RESULT] n-step Prediction error: ',prediction_error));\n",
    "\n",
    "import matplotlib\n",
    "matplotlib.rcParams.update({'font.size':20})\n",
    "\n",
    "\n",
    "### Make a Prediction Plot\n",
    "x_range = np.arange(0,350,1)\n",
    "#x_range = np.arange(0,Yf_final_test_stack_nn.shape[1],1);\n",
    "for i in range(0,3):#num_bas_obs):\n",
    "    plt.plot(x_range,Yf_final_test_ep_nn[i,0:len(x_range)],'--',color=colors[i,:]);\n",
    "    plt.plot(x_range,Yf_final_test_stack_nn[i,0:len(x_range)],'*',color=colors[i,:]);\n",
    "axes = plt.gca();\n",
    "axes.spines['right'].set_visible(False)\n",
    "axes.spines['top'].set_visible(False)\n",
    "\n",
    "#plt.legend(loc='best');\n",
    "#plt.xlabel('t');\n",
    "fig = plt.gcf();\n",
    "\n",
    "target_file = data_suffix.replace('.pickle','')+'final_nstep_prediction.pdf';\n",
    "plt.savefig(target_file);\n",
    "plt.show();\n",
    "\n",
    "\n"
   ]
  },
  {
   "cell_type": "code",
   "execution_count": null,
   "metadata": {},
   "outputs": [],
   "source": []
  },
  {
   "cell_type": "code",
   "execution_count": null,
   "metadata": {},
   "outputs": [],
   "source": []
  }
 ],
 "metadata": {
  "kernelspec": {
   "display_name": "Python 2",
   "language": "python",
   "name": "python2"
  },
  "language_info": {
   "codemirror_mode": {
    "name": "ipython",
    "version": 2
   },
   "file_extension": ".py",
   "mimetype": "text/x-python",
   "name": "python",
   "nbconvert_exporter": "python",
   "pygments_lexer": "ipython2",
   "version": "2.7.10"
  }
 },
 "nbformat": 4,
 "nbformat_minor": 2
}
