{
 "cells": [
  {
   "cell_type": "code",
   "execution_count": null,
   "metadata": {},
   "outputs": [],
   "source": []
  },
  {
   "cell_type": "code",
   "execution_count": 9,
   "metadata": {},
   "outputs": [],
   "source": [
    "import numpy as np;\n",
    "from math import sqrt\n",
    "from numpy import concatenate\n",
    "from matplotlib import pyplot\n",
    "\n",
    "from sklearn.preprocessing import MinMaxScaler\n",
    "from sklearn.preprocessing import LabelEncoder\n",
    "from sklearn.metrics import mean_squared_error\n",
    "from keras.models import Sequential\n",
    "from keras.layers import Dense\n",
    "from keras.layers import LSTM\n",
    "\n",
    "    "
   ]
  },
  {
   "cell_type": "code",
   "execution_count": 12,
   "metadata": {},
   "outputs": [],
   "source": [
    "import pickle\n",
    "\n",
    "def load_pickle_data(file_path,has_control):\n",
    "        '''load pickle data file for deep Koopman dynamic mode decomposition. \n",
    "        Args: \n",
    "           file_path: \n",
    "\n",
    "        '''     \n",
    "        file_obj = file(file_path,'rb');\n",
    "        output_vec = pickle.load(file_obj);\n",
    "\n",
    "        Yp = output_vec[0]; # list of baseline observables, len(Yp) = (n_samps-1) \n",
    "        Yf = output_vec[1]; # list of baseline observables, len(Yf) = (n_samps-1) \n",
    "\n",
    "        print \"DEBUG: len(output_vec): \" + repr(len(output_vec));\n",
    "        if has_control:\n",
    "          u_control_all_training = output_vec[2];\n",
    "          #print u_control_all_training[0:10]\n",
    "        else:\n",
    "          u_control_all_training = None;\n",
    "          \n",
    "        if len(Yp)<2:\n",
    "            print \"Warning: the time-series data provided has no more than 2 points.\"\n",
    "    \n",
    "        Y_whole = [None]*(len(Yp)+1);\n",
    "        \n",
    "        for i in range(0,len(Yp)+1):\n",
    "            if i == len(Yp):\n",
    "                Y_whole[i] = Yf[i-1];\n",
    "            else:\n",
    "                Y_whole[i] = Yp[i];\n",
    "\n",
    "        Y_whole = np.asarray(Y_whole);\n",
    "        \n",
    "        return np.asarray(Yp),np.asarray(Yf),Y_whole,u_control_all_training;\n",
    "        "
   ]
  },
  {
   "cell_type": "code",
   "execution_count": 46,
   "metadata": {},
   "outputs": [
    {
     "name": "stdout",
     "output_type": "stream",
     "text": [
      "DEBUG: len(output_vec)2\n"
     ]
    }
   ],
   "source": [
    " \n",
    "\n",
    "pre_examples_switch = 5; \n",
    "\n",
    "### Randomly generated oscillator system with control\n",
    "\n",
    "data_directory = 'koopman_data/'\n",
    "if pre_examples_switch == 0:\n",
    "    data_suffix = 'rand_osc.pickle';  \n",
    "    with_control = 1; \n",
    "\n",
    "if pre_examples_switch == 1:\n",
    "    data_suffix = 'cons_law.pickle';\n",
    "    with_control = 0;\n",
    "\n",
    "if pre_examples_switch == 2:\n",
    "    data_suffix = '50bus.pickle';\n",
    "    with_control = 1;\n",
    "\n",
    "if pre_examples_switch == 3:\n",
    "    data_suffix = 'zhang_control.pickle';\n",
    "    with_control = 1;\n",
    "\n",
    "if pre_examples_switch == 4:\n",
    "    data_suffix = 'deltaomega-series.pickle'; ### IEEE 39 bus swing model \n",
    "    with_control = 1; \n",
    "\n",
    "if pre_examples_switch == 5:\n",
    "    data_suffix = 'glycol.pickle';\n",
    "    with_control = 0; \n",
    "\n",
    "if pre_examples_switch == 6:\n",
    "    data_suffix = 'exp_toggle_switch.pickle';\n",
    "    with_control = 0; \n",
    "\n",
    "if pre_examples_switch == 7:\n",
    "    data_suffix ='MD.pickle';\n",
    "    with_control = 1; \n",
    "\n",
    "data_file = data_directory + data_suffix;  \n",
    "Yp,Yf,Y_whole,temp_var = load_pickle_data(data_file,with_control);\n"
   ]
  },
  {
   "cell_type": "code",
   "execution_count": 60,
   "metadata": {},
   "outputs": [],
   "source": [
    "train_range = len(Yp)*9/10; # define upper limits of training data \n",
    "test_range = len(Yp); # define upper limits of test data \n",
    "\n",
    "\n",
    "num_trains = len(Yp)*9/10;\n",
    "train_indices = np.random.randint(0,len(Yp),num_trains);\n",
    "test_indices = list(set(np.arange(0,len(Yp),1))-set(list(train_indices)));\n",
    "\n",
    "Yp_train = Yp[train_indices,:];\n",
    "Yf_train = Yf[train_indices,:];\n",
    "Yp_test = Yp[test_indices,:];\n",
    "Yf_test = Yf[test_indices,:]; \n",
    "Yp_train = Yp_train.reshape((Yp_train.shape[0], 1, Yp_train.shape[1]))\n",
    "#Yf_train = Yf_train.reshape((Yf_train.shape[0], 1, Yf_train.shape[1]))\n",
    "Yp_test = Yp_test.reshape((Yp_test.shape[0], 1, Yp_test.shape[1]))\n",
    "#Yf_test = Yf_test.reshape((Yf_test.shape[0], 1, Yf_test.shape[1]))\n",
    "\n"
   ]
  },
  {
   "cell_type": "code",
   "execution_count": 61,
   "metadata": {},
   "outputs": [
    {
     "name": "stdout",
     "output_type": "stream",
     "text": [
      "(899, 1, 7)\n"
     ]
    }
   ],
   "source": [
    "print Yp_train.shape"
   ]
  },
  {
   "cell_type": "code",
   "execution_count": 62,
   "metadata": {},
   "outputs": [
    {
     "name": "stdout",
     "output_type": "stream",
     "text": [
      "Train on 899 samples, validate on 401 samples\n",
      "Epoch 1/50\n",
      "0s - loss: 0.4987 - val_loss: 0.4480\n",
      "Epoch 2/50\n",
      "0s - loss: 0.4310 - val_loss: 0.3996\n",
      "Epoch 3/50\n",
      "0s - loss: 0.3850 - val_loss: 0.3519\n",
      "Epoch 4/50\n",
      "0s - loss: 0.3393 - val_loss: 0.3079\n",
      "Epoch 5/50\n",
      "0s - loss: 0.2994 - val_loss: 0.2694\n",
      "Epoch 6/50\n",
      "0s - loss: 0.2645 - val_loss: 0.2345\n",
      "Epoch 7/50\n",
      "0s - loss: 0.2325 - val_loss: 0.2033\n",
      "Epoch 8/50\n",
      "0s - loss: 0.2026 - val_loss: 0.1749\n",
      "Epoch 9/50\n",
      "0s - loss: 0.1753 - val_loss: 0.1505\n",
      "Epoch 10/50\n",
      "0s - loss: 0.1512 - val_loss: 0.1306\n",
      "Epoch 11/50\n",
      "0s - loss: 0.1312 - val_loss: 0.1142\n",
      "Epoch 12/50\n",
      "0s - loss: 0.1141 - val_loss: 0.0997\n",
      "Epoch 13/50\n",
      "0s - loss: 0.0987 - val_loss: 0.0857\n",
      "Epoch 14/50\n",
      "0s - loss: 0.0853 - val_loss: 0.0764\n",
      "Epoch 15/50\n",
      "0s - loss: 0.0776 - val_loss: 0.0702\n",
      "Epoch 16/50\n",
      "0s - loss: 0.0710 - val_loss: 0.0636\n",
      "Epoch 17/50\n",
      "0s - loss: 0.0640 - val_loss: 0.0569\n",
      "Epoch 18/50\n",
      "0s - loss: 0.0567 - val_loss: 0.0498\n",
      "Epoch 19/50\n",
      "0s - loss: 0.0491 - val_loss: 0.0423\n",
      "Epoch 20/50\n",
      "0s - loss: 0.0413 - val_loss: 0.0350\n",
      "Epoch 21/50\n",
      "0s - loss: 0.0343 - val_loss: 0.0296\n",
      "Epoch 22/50\n",
      "0s - loss: 0.0288 - val_loss: 0.0250\n",
      "Epoch 23/50\n",
      "0s - loss: 0.0238 - val_loss: 0.0206\n",
      "Epoch 24/50\n",
      "0s - loss: 0.0190 - val_loss: 0.0166\n",
      "Epoch 25/50\n",
      "0s - loss: 0.0152 - val_loss: 0.0141\n",
      "Epoch 26/50\n",
      "0s - loss: 0.0141 - val_loss: 0.0134\n",
      "Epoch 27/50\n",
      "0s - loss: 0.0135 - val_loss: 0.0128\n",
      "Epoch 28/50\n",
      "0s - loss: 0.0128 - val_loss: 0.0122\n",
      "Epoch 29/50\n",
      "0s - loss: 0.0123 - val_loss: 0.0117\n",
      "Epoch 30/50\n",
      "0s - loss: 0.0118 - val_loss: 0.0113\n",
      "Epoch 31/50\n",
      "0s - loss: 0.0113 - val_loss: 0.0106\n",
      "Epoch 32/50\n",
      "0s - loss: 0.0109 - val_loss: 0.0102\n",
      "Epoch 33/50\n",
      "0s - loss: 0.0105 - val_loss: 0.0101\n",
      "Epoch 34/50\n",
      "0s - loss: 0.0102 - val_loss: 0.0094\n",
      "Epoch 35/50\n",
      "0s - loss: 0.0097 - val_loss: 0.0089\n",
      "Epoch 36/50\n",
      "0s - loss: 0.0093 - val_loss: 0.0084\n",
      "Epoch 37/50\n",
      "0s - loss: 0.0090 - val_loss: 0.0081\n",
      "Epoch 38/50\n",
      "0s - loss: 0.0087 - val_loss: 0.0077\n",
      "Epoch 39/50\n",
      "0s - loss: 0.0084 - val_loss: 0.0075\n",
      "Epoch 40/50\n",
      "0s - loss: 0.0081 - val_loss: 0.0072\n",
      "Epoch 41/50\n",
      "0s - loss: 0.0079 - val_loss: 0.0070\n",
      "Epoch 42/50\n",
      "0s - loss: 0.0078 - val_loss: 0.0069\n",
      "Epoch 43/50\n",
      "0s - loss: 0.0077 - val_loss: 0.0070\n",
      "Epoch 44/50\n",
      "0s - loss: 0.0075 - val_loss: 0.0064\n",
      "Epoch 45/50\n",
      "0s - loss: 0.0073 - val_loss: 0.0064\n",
      "Epoch 46/50\n",
      "0s - loss: 0.0072 - val_loss: 0.0064\n",
      "Epoch 47/50\n",
      "0s - loss: 0.0072 - val_loss: 0.0062\n",
      "Epoch 48/50\n",
      "0s - loss: 0.0069 - val_loss: 0.0060\n",
      "Epoch 49/50\n",
      "0s - loss: 0.0069 - val_loss: 0.0059\n",
      "Epoch 50/50\n",
      "0s - loss: 0.0068 - val_loss: 0.0060\n"
     ]
    },
    {
     "data": {
      "image/png": "[encoded data removed]",
      "text/plain": [
       "<matplotlib.figure.Figure at 0x110016510>"
      ]
     },
     "metadata": {},
     "output_type": "display_data"
    }
   ],
   "source": [
    "# design network\n",
    "model = Sequential()\n",
    "model.add(LSTM(50, input_shape=(Yp_train.shape[1], Yp_train.shape[2])))\n",
    "model.add(Dense(Yp_train.shape[2]))\n",
    "model.compile(loss='mae', optimizer='adam')\n",
    "# fit network\n",
    "history = model.fit(x=Yp_train, y=Yf_train, nb_epoch=50, batch_size=72, validation_data=(Yp_test, Yf_test), verbose=2, shuffle=False)\n",
    "# plot history\n",
    "pyplot.plot(history.history['loss'], label='train')\n",
    "pyplot.plot(history.history['val_loss'], label='test')\n",
    "pyplot.legend()\n",
    "pyplot.show()\n"
   ]
  },
  {
   "cell_type": "code",
   "execution_count": 67,
   "metadata": {},
   "outputs": [
    {
     "data": {
      "text/plain": [
       "(1, 7)"
      ]
     },
     "execution_count": 67,
     "metadata": {},
     "output_type": "execute_result"
    }
   ],
   "source": [
    "Yf_test.shape\n",
    "Y_out.shape"
   ]
  },
  {
   "cell_type": "code",
   "execution_count": 66,
   "metadata": {},
   "outputs": [],
   "source": [
    "Y_seed = Yp_test[0:1,:,:];\n",
    "Y_out_stack = [];\n",
    "#for ind in range(0,Yf_test.shape[0]):\n",
    "Y_out = model.predict(Y_seed)\n",
    "    \n"
   ]
  },
  {
   "cell_type": "code",
   "execution_count": null,
   "metadata": {},
   "outputs": [],
   "source": [
    "# Placeholder for the inputs in a given iteration.\n",
    "words = tf.placeholder(tf.int32, [batch_size, num_steps])\n",
    "\n",
    "lstm = tf.contrib.rnn.BasicLSTMCell(lstm_size)\n",
    "# Initial state of the LSTM memory.\n",
    "initial_state = state = tf.zeros([batch_size, lstm.state_size])\n",
    "\n",
    "for i in range(num_steps):\n",
    "    # The value of state is updated after processing each batch of words.\n",
    "    output, state = lstm(words[:, i], state)\n",
    "\n",
    "    # The rest of the code.\n",
    "    # ...\n",
    "\n",
    "final_state = state"
   ]
  }
 ],
 "metadata": {
  "kernelspec": {
   "display_name": "Python 2",
   "language": "python",
   "name": "python2"
  },
  "language_info": {
   "codemirror_mode": {
    "name": "ipython",
    "version": 2
   },
   "file_extension": ".py",
   "mimetype": "text/x-python",
   "name": "python",
   "nbconvert_exporter": "python",
   "pygments_lexer": "ipython2",
   "version": "2.7.10"
  }
 },
 "nbformat": 4,
 "nbformat_minor": 2
}
