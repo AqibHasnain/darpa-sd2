{
 "cells": [
  {
   "cell_type": "code",
   "execution_count": 1,
   "metadata": {},
   "outputs": [],
   "source": [
    "import csv \n",
    "import os\n",
    "import numpy as np\n",
    "import pickle \n",
    "%matplotlib inline\n",
    "import matplotlib.pyplot as plt\n",
    "import seaborn as sns\n",
    "import scipy as sp\n",
    "from scipy.integrate import odeint\n",
    "import math"
   ]
  },
  {
   "cell_type": "code",
   "execution_count": null,
   "metadata": {},
   "outputs": [],
   "source": [
    "def HastyModel(x,t):\n",
    "       # define constants\n",
    "    h2o = 90.8\n",
    "    glu = 70.6\n",
    "    pyr = 70.9\n",
    "    hplus = 80.2\n",
    "    dip = 80.5\n",
    "    co2 = 60.7\n",
    "\n",
    "    # rename states\n",
    "    \n",
    "    cha = x[0]\n",
    "    gln = x[1]\n",
    "    anth = x[2]\n",
    "    fivepa = x[3]\n",
    "    nfivepa = x[4]\n",
    "    onetwoc = x[5]\n",
    "    onetwosr = x[6]\n",
    "    ind = x[7]\n",
    "    ser = x[8]\n",
    "    trp = x[9]\n",
    "    e1 = x[10]\n",
    "    e2 = x[11]\n",
    "    e3 = x[12]\n",
    "    e4 = x[13]\n",
    "    e5 = x[14]\n",
    "    e6 = x[15]\n",
    "    cha_e1 = x[16]\n",
    "    gln_e1 = x[17]\n",
    "    anth_e2 = x[18]\n",
    "    fivepa_e2 = x[19]\n",
    "    nfivepa_e3 = x[20]\n",
    "    onetwoc_e4 = x[21]\n",
    "    onetwosr_e5 = x[22]\n",
    "    ind_e6 = x[23]\n",
    "    ser_e6 = x[24]\n",
    "    dg3p = x[25]\n",
    "    trpR = x[26]\n",
    "    trp_trpR = x[27]\n",
    "    gRNA1 = x[28]\n",
    "    gRNA2 = x[29]\n",
    "    gRNA3 = x[30]\n",
    "    gRNA4 = x[31]\n",
    "    gRNA5 = x[32]\n",
    "    gRNA6 = x[33]\n",
    "    gRNA1_dCas9 = x[34]\n",
    "    gRNA2_dCas9 = x[35]\n",
    "    gRNA3_dCas9 = x[36]\n",
    "    gRNA4_dCas9 = x[37]\n",
    "    gRNA5_dCas9 = x[38]\n",
    "    gRNA6_dCas9 = x[39]\n",
    "    dCas9 = x[40]\n",
    "    "
   ]
  }
 ],
 "metadata": {
  "kernelspec": {
   "display_name": "Python 3",
   "language": "python",
   "name": "python3"
  },
  "language_info": {
   "codemirror_mode": {
    "name": "ipython",
    "version": 3
   },
   "file_extension": ".py",
   "mimetype": "text/x-python",
   "name": "python",
   "nbconvert_exporter": "python",
   "pygments_lexer": "ipython3",
   "version": "3.7.3"
  }
 },
 "nbformat": 4,
 "nbformat_minor": 2
}
